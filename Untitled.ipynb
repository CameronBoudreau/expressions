{
 "cells": [
  {
   "cell_type": "code",
   "execution_count": 1,
   "metadata": {
    "collapsed": true
   },
   "outputs": [],
   "source": [
    "import re"
   ]
  },
  {
   "cell_type": "code",
   "execution_count": 2,
   "metadata": {
    "collapsed": true
   },
   "outputs": [],
   "source": [
    "def phone_numbers(string):\n",
    "    words = {}\n",
    "    words[\"area_code\"] = re.findall(r'(\\d{3})', string)[0]\n",
    "    words[\"number\"] = re.findall(r'(\\d{3}\\D?\\d{4})$', string)[0]\n",
    "    return words"
   ]
  },
  {
   "cell_type": "code",
   "execution_count": 3,
   "metadata": {
    "collapsed": false
   },
   "outputs": [
    {
     "data": {
      "text/plain": [
       "{'area_code': '919', 'number': '555-1212'}"
      ]
     },
     "execution_count": 3,
     "metadata": {},
     "output_type": "execute_result"
    }
   ],
   "source": [
    "phone_numbers('919-555-1212')"
   ]
  },
  {
   "cell_type": "code",
   "execution_count": 6,
   "metadata": {
    "collapsed": false
   },
   "outputs": [
    {
     "name": "stdout",
     "output_type": "stream",
     "text": [
      "('Atlanta', 'GA')\n",
      "('Durham', 'NC')\n",
      "('Little River', 'SC')\n",
      "(' Cleveland', 'OH')\n",
      "('Winston-Salem', 'NC')\n"
     ]
    }
   ],
   "source": [
    "locations = ['Atlanta, GA', 'Durham, NC', 'Little River, SC', 'Seattle', 'This is a long thing. Cleveland, OH', 'Winston-Salem, NC']\n",
    "\n",
    "for l in locations:\n",
    "    match = re.search(r'([\\w\\s-]+), ([A-Z]{2})', l)\n",
    "    if match:\n",
    "        print(match.groups())"
   ]
  },
  {
   "cell_type": "code",
   "execution_count": null,
   "metadata": {
    "collapsed": true
   },
   "outputs": [],
   "source": []
  }
 ],
 "metadata": {
  "kernelspec": {
   "display_name": "Python 3",
   "language": "python",
   "name": "python3"
  },
  "language_info": {
   "codemirror_mode": {
    "name": "ipython",
    "version": 3
   },
   "file_extension": ".py",
   "mimetype": "text/x-python",
   "name": "python",
   "nbconvert_exporter": "python",
   "pygments_lexer": "ipython3",
   "version": "3.5.1"
  }
 },
 "nbformat": 4,
 "nbformat_minor": 0
}
